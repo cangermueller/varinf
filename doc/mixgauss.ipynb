{
 "metadata": {
  "name": ""
 },
 "nbformat": 3,
 "nbformat_minor": 0,
 "worksheets": [
  {
   "cells": [
    {
     "cell_type": "markdown",
     "metadata": {},
     "source": [
      "* Jeffrey prior\n",
      "* Plate notation\n",
      "* tmux keybinding\n",
      "* Plot Normal Wishart\n",
      "* E[log f(X)]"
     ]
    },
    {
     "cell_type": "code",
     "collapsed": false,
     "input": [
      "import numpy as np\n",
      "import matplotlib.pyplot as plot\n",
      "import sys\n",
      "sys.path.append('../varinf')\n",
      "import mixgauss\n"
     ],
     "language": "python",
     "metadata": {},
     "outputs": [],
     "prompt_number": 2
    },
    {
     "cell_type": "code",
     "collapsed": false,
     "input": [
      "np.random.seed(0)\n",
      "D = 1\n",
      "K = 3\n",
      "N = 10\n",
      "p_pi, p_nw = mixgauss.prior_uninformative(D, K)\n",
      "X = np.random.normal(0.0, 1.0, N).reshape((N, D))\n",
      "q_z, q_pi, q_nw = mixgauss.infer_q(X, p_pi, p_nw, maxit=10)\n",
      "print q_z, '\\n'\n",
      "print q_pi, '\\n'\n",
      "for k in range(K):\n",
      "    print q_nw[k], '\\n'"
     ],
     "language": "python",
     "metadata": {},
     "outputs": [
      {
       "output_type": "stream",
       "stream": "stdout",
       "text": [
        "0 -75.8183794065\n",
        "1 -52.2267151378\n",
        "2 -52.2267151378\n",
        "3 -52.2267151378\n",
        "4 -52.2267151378\n",
        "5 -52.2267151378\n",
        "6 -52.2267151378\n",
        "7 -52.2267151378\n",
        "8"
       ]
      },
      {
       "output_type": "stream",
       "stream": "stdout",
       "text": [
        " -52.2267151378\n",
        "9 -52.2267151378\n",
        "[[ 0.33333333  0.33333333  0.33333333]\n",
        " [ 0.33333333  0.33333333  0.33333333]\n",
        " [ 0.33333333  0.33333333  0.33333333]\n",
        " [ 0.33333333  0.33333333  0.33333333]\n",
        " [ 0.33333333  0.33333333  0.33333333]\n",
        " [ 0.33333333  0.33333333  0.33333333]\n",
        " [ 0.33333333  0.33333333  0.33333333]\n",
        " [ 0.33333333  0.33333333  0.33333333]\n",
        " [ 0.33333333  0.33333333  0.33333333]\n",
        " [ 0.33333333  0.33333333  0.33333333]] \n",
        "\n",
        "[ 3.66666667  3.66666667  3.66666667] \n",
        "\n",
        "u=[-0.48428975]\n",
        "b=3.33433333333\n",
        "W=[[ 0.57096681]]\n",
        "v=5.33333333333 \n",
        "\n",
        "u=[-0.48428975]\n",
        "b=3.33433333333\n",
        "W=[[ 0.57096681]]\n",
        "v=5.33333333333 \n",
        "\n",
        "u=[-0.48428975]\n",
        "b=3.33433333333\n",
        "W=[[ 0.57096681]]\n",
        "v=5.33333333333 \n",
        "\n"
       ]
      }
     ],
     "prompt_number": 5
    },
    {
     "cell_type": "code",
     "collapsed": false,
     "input": [
      "np.random.seed(0)\n",
      "D = 1\n",
      "K = 2\n",
      "N = 10\n",
      "p_pi, p_nw = mixgauss.prior_uninformative(D, K)\n",
      "X = np.random.normal(-11.0, 1.0, N).reshape((N, D))\n",
      "Y = np.random.normal(3.0, 1.0, N).reshape((N, D))\n",
      "XY = np.vstack((X, Y))\n",
      "p_pi = np.array([0.5, 0.5])\n",
      "p_nw.b = 10000\n",
      "p_nw.v = 2.0\n",
      "q_z, q_pi, q_nw = mixgauss.infer_q(XY, p_pi, p_nw, maxit=20)\n",
      "print q_z, '\\n'\n",
      "print q_pi, '\\n'\n",
      "for k in range(K):\n",
      "    print q_nw[k], '\\n'"
     ],
     "language": "python",
     "metadata": {},
     "outputs": [
      {
       "output_type": "stream",
       "stream": "stdout",
       "text": [
        "0 -29.0074298941\n",
        "1 -220.381080927\n",
        "2 -220.381080927\n",
        "3 -220.381080927\n",
        "4 -220.381080927\n",
        "5 -220.381080927\n",
        "6 -220.381080927\n",
        "7"
       ]
      },
      {
       "output_type": "stream",
       "stream": "stdout",
       "text": [
        " -220.381080927\n",
        "8 -220.381080927\n",
        "9 -220.381080927\n",
        "10 -220.381080927\n",
        "11 -220.381080927\n",
        "12 -220.381080927\n",
        "13 -220.381080927\n",
        "14"
       ]
      },
      {
       "output_type": "stream",
       "stream": "stdout",
       "text": [
        " -220.381080927\n",
        "15 -220.381080927\n",
        "16 -220.381080927\n",
        "17 -220.381080927\n",
        "18 -220.381080927\n",
        "19 -220.381080927\n",
        "[[ 0.5  0.5]\n",
        " [ 0.5  0.5]\n",
        " [ 0.5  0.5]\n",
        " [ 0.5  0.5]\n",
        " [ 0.5  0.5]\n",
        " [ 0.5  0.5]\n",
        " [ 0.5  0.5]\n",
        " [ 0.5  0.5]\n",
        " [ 0.5  0.5]\n",
        " [ 0.5  0.5]\n",
        " [ 0.5  0.5]\n",
        " [ 0.5  0.5]\n",
        " [ 0.5  0.5]\n",
        " [ 0.5  0.5]\n",
        " [ 0.5  0.5]\n",
        " [ 0.5  0.5]\n",
        " [ 0.5  0.5]\n",
        " [ 0.5  0.5]\n",
        " [ 0.5  0.5]\n",
        " [ 0.5  0.5]] \n",
        "\n",
        "[ 10.5  10.5] \n",
        "\n",
        "u=[ 1.7812334]\n",
        "b=10010.0\n",
        "W=[[ 0.00014159]]\n",
        "v=12.0 \n",
        "\n",
        "u=[ 1.7812334]\n",
        "b=10010.0\n",
        "W=[[ 0.00014159]]\n",
        "v=12.0 \n",
        "\n"
       ]
      }
     ],
     "prompt_number": 55
    }
   ],
   "metadata": {}
  }
 ]
}