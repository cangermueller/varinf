{
 "metadata": {
  "name": ""
 },
 "nbformat": 3,
 "nbformat_minor": 0,
 "worksheets": [
  {
   "cells": [
    {
     "cell_type": "markdown",
     "metadata": {},
     "source": [
      "* Jeffrey prior\n",
      "* Plate notation\n",
      "* tmux keybinding\n",
      "* Plot Normal Wishart\n",
      "* E[log f(X)]\n",
      "* Method sampling from mixture of Gaussians\n",
      "* Proof montonous increase\n",
      "* Finite difference\n",
      "* Distribution as object -> PDF\n",
      "* Visualization\n",
      "* Init q0 by clustering"
     ]
    },
    {
     "cell_type": "code",
     "collapsed": false,
     "input": [
      "import numpy as np\n",
      "import matplotlib.pyplot as plt\n",
      "%matplotlib inline\n",
      "import matplotlib.patches\n",
      "import scipy as sp\n",
      "import scipy.stats as stats\n",
      "\n",
      "import sys\n",
      "sys.path.append('../varinf')\n",
      "import mixgauss"
     ],
     "language": "python",
     "metadata": {},
     "outputs": [],
     "prompt_number": 1
    },
    {
     "cell_type": "code",
     "collapsed": false,
     "input": [
      "# https://onlinecourses.science.psu.edu/stat505/node/36\n",
      "def ellipse_normal(u, S, alpha=0.05):\n",
      "    l, e = np.linalg.eig(S)\n",
      "    df = len(l)\n",
      "    widths = [np.sqrt(l[i]*stats.chi2.ppf(1-alpha, df=df)) for i in range(df)]\n",
      "    angle = np.arccos(e[1][1] / np.linalg.norm(e[1])) / np.pi * 180\n",
      "    return matplotlib.patches.Ellipse(u, widths[0], widths[1], angle)\n",
      "    \n",
      "def plot_normal(u, S, alpha):\n",
      "    fig, ax = plt.subplots()\n",
      "    e = ellipse_normal(u, S, alpha)\n",
      "    ax.add_artist(e)\n",
      "    ax.set_xlabel('$X_1$')\n",
      "    ax.set_ylabel('$X_2$')\n",
      "    ax.set_xlim(u[0]-2, u[0]+2)\n",
      "    ax.set_ylim(u[1]-2, u[1]+2)\n",
      "    \n",
      "def viz_q(X, q_z, q_pi, q_nw, xlim=None, ylim=None):\n",
      "    fig, ax = plt.subplots()\n",
      "    if not xlim is None:\n",
      "        ax.set_xlim(xlim)\n",
      "    if not ylim is None:\n",
      "        ax.set_ylim(ylim)\n",
      "    ax.scatter(X[:,0], X[:, 1], color='blue')\n",
      "    for i, q in enumerate(q_nw):\n",
      "        S = np.linalg.inv(q.v * q.W)\n",
      "        en = ellipse_normal(q.u, S)\n",
      "        e = ax.add_artist(en)\n",
      "        e.set_edgecolor('red')\n",
      "        e.set_facecolor('red')\n",
      "        e.set_alpha(max(0.1, q_pi[i] / sum(q_pi)))\n",
      "        e.set_linewidth(3)\n",
      "        e.zorder = 0\n",
      "    \n",
      "def print_q(q_z, q_pi, q_nw):\n",
      "    print q_z, '\\n'\n",
      "    print q_pi, '\\n'\n",
      "    for q in q_nw:\n",
      "        print q, '\\n'\n",
      "    \n",
      "                      \n",
      "    "
     ],
     "language": "python",
     "metadata": {},
     "outputs": [],
     "prompt_number": 24
    },
    {
     "cell_type": "code",
     "collapsed": false,
     "input": [
      "np.random.seed(0)\n",
      "D = 1\n",
      "K = 1\n",
      "N = 100\n",
      "p_pi, p_nw = mixgauss.prior_uninformative(D, K)\n",
      "X = np.random.normal(5.0, np.sqrt(1/0.8), N).reshape((N, D))\n",
      "q_pi0 = np.array([N])\n",
      "q_nw0 = [mixgauss.NormalWishartParams(u=np.array([0.0]), b=100, W=np.eye(D)*1/N, v=N)]\n",
      "q_z, q_pi, q_nw = mixgauss.infer_q(X, p_pi, p_nw, q_pi0, q_nw0, maxit=10)\n",
      "print q_nw[0]"
     ],
     "language": "python",
     "metadata": {},
     "outputs": [
      {
       "output_type": "stream",
       "stream": "stdout",
       "text": [
        "0 -146.019498382 -137.368687067 -8.65081131516\n",
        "1 -127.988559087 -155.221102211 27.2325431239\n",
        "2 -127.988559087 -155.221102211 27.2325431239\n",
        "3"
       ]
      },
      {
       "output_type": "stream",
       "stream": "stdout",
       "text": [
        " -127.988559087 -155.221102211 27.2325431239\n",
        "4 -127.988559087 -155.221102211 27.2325431239\n",
        "5 -127.988559087 -155.221102211 27.2325431239\n",
        "6"
       ]
      },
      {
       "output_type": "stream",
       "stream": "stdout",
       "text": [
        " -127.988559087 -155.221102211 27.2325431239\n",
        "7 -127.988559087 -155.221102211 27.2325431239\n",
        "8 -127.988559087 -155.221102211 27.2325431239\n",
        "9"
       ]
      },
      {
       "output_type": "stream",
       "stream": "stdout",
       "text": [
        " -127.988559087 -155.221102211 27.2325431239\n",
        "u=[ 5.02660138]\n",
        "b=101.0\n",
        "W=[[ 0.00692742]]\n",
        "v=101.0\n",
        "L=[[ 0.69966896]]\n"
       ]
      }
     ],
     "prompt_number": 93
    },
    {
     "cell_type": "code",
     "collapsed": false,
     "input": [
      "np.random.seed(0)\n",
      "D = 1\n",
      "X = np.vstack((np.random.normal(-10.0, 1.0, 10).reshape((10, D)),\n",
      "               np.random.normal(10.0, 1.0, 10).reshape((10, D))\n",
      "               ))\n",
      "\n",
      "K=2\n",
      "p_pi, p_nw = mixgauss.prior_uninformative(D, K)\n",
      "q_pi0 = np.array([0.5, 0.5])\n",
      "q_nw0 = []\n",
      "q_nw0.append(mixgauss.NormalWishartParams(u=np.array([-0.1]),\n",
      "                                          b=10,\n",
      "                                          W=np.array([[1.0]]),\n",
      "                                          v=10)\n",
      "             )\n",
      "q_nw0.append(mixgauss.NormalWishartParams(u=np.array([0.0]),\n",
      "                                          b=10,\n",
      "                                          W=np.array([[1.0]]),\n",
      "                                          v=10)\n",
      "             )                                   \n",
      "\n",
      "q_z, q_pi, q_nw = mixgauss.infer_q(X, p_pi, p_nw, q_pi0, q_nw0, maxit=10)\n",
      "print_q(q_z, q_pi, q_nw)"
     ],
     "language": "python",
     "metadata": {},
     "outputs": [
      {
       "output_type": "stream",
       "stream": "stdout",
       "text": [
        "0 -104.00721563 -26.7511843282 -77.2560313022\n",
        "1 -41.5931463547 -57.8877461723 16.2945998175\n",
        "2 -41.6311321604 -57.8532133618 16.2220812014\n",
        "3 -41.631132284 -57.8532132495 16.2220809654\n",
        "4 -41.631132284 -57.8532132495 16.2220809654\n",
        "5 -41.631132284 -57.8532132495 16.2220809654\n",
        "6 -41.631132284 -57.8532132495 16.2220809654\n",
        "7"
       ]
      },
      {
       "output_type": "stream",
       "stream": "stdout",
       "text": [
        " -41.631132284 -57.8532132495 16.2220809654\n",
        "8 -41.631132284 -57.8532132495 16.2220809654\n",
        "9 -41.631132284 -57.8532132495 16.2220809654\n",
        "[[  9.99999998e-01   1.78151630e-09]\n",
        " [  1.00000000e+00   7.69120613e-11]\n",
        " [  1.00000000e+00   2.93335957e-10]\n",
        " [  9.99999995e-01   5.28802236e-09]\n",
        " [  9.99999998e-01   2.25714136e-09]\n",
        " [  1.00000000e+00   3.07352688e-12]\n",
        " [  1.00000000e+00   2.74575058e-10]\n",
        " [  1.00000000e+00   2.13067456e-11]\n",
        " [  1.00000000e+00   2.38398970e-11]\n",
        " [  1.00000000e+00   7.87984249e-11]\n",
        " [  1.90745203e-08   9.99999981e-01]\n",
        " [  1.75066518e-09   9.99999998e-01]\n",
        " [  6.16225885e-09   9.99999994e-01]\n",
        " [  1.98755794e-08   9.99999980e-01]\n",
        " [  1.10025708e-08   9.99999989e-01]\n",
        " [  1.34649627e-08   9.99999987e-01]\n",
        " [  1.62920460e-09   9.99999998e-01]\n",
        " [  3.63054983e-08   9.99999964e-01]\n",
        " [  1.39837106e-08   9.99999986e-01]\n",
        " [  1.21017375e-07   9.99999879e-01]] \n",
        "\n",
        "[ 11.00000023  10.99999977] \n",
        "\n",
        "u=[-8.32906945]\n",
        "b=11.0000002343\n",
        "W=[[ 0.00942621]]\n",
        "v=11.0000002343\n",
        "L=[[ 0.10368829]] \n",
        "\n",
        "u=[ 9.54604181]\n",
        "b=10.9999997659\n",
        "W=[[ 0.0116451]]\n",
        "v=10.9999997659\n",
        "L=[[ 0.12809615]] \n",
        "\n"
       ]
      }
     ],
     "prompt_number": 94
    },
    {
     "cell_type": "code",
     "collapsed": false,
     "input": [
      "np.random.seed(0)\n",
      "X = np.vstack((np.random.multivariate_normal([0, 0], np.array([[1.0, 0.0],\n",
      "                                                              [0.0, 1.0]]), 10),\n",
      "              np.random.multivariate_normal([0, 0], np.array([[1.0, 0.0],\n",
      "                                                              [0.0, 1.0]]), 10)\n",
      "              ))\n",
      "p_pi = np.array([1.0, 1.0])\n",
      "p_nw = mixgauss.NormalWishartParams(np.array([0.0, 0.0]), 1.0, np.array([[1.0, 0.0], [0.0, 1.0]]), 2.0)\n",
      "q_pi0 = np.array([10.0, 10.0])\n",
      "q_nw0 = [mixgauss.NormalWishartParams(np.array([5.0, 5.0]), 10.0, np.array([[1.0, 0.0], [0.0, 1.0]]), 10.0),\n",
      "         mixgauss.NormalWishartParams(np.array([5.1, 5.1]), 10.0, np.array([[1.0, 0.0], [0.0, 1.0]]), 10.0)]\n",
      "q_z, q_pi, q_nw = mixgauss.infer_q(X, p_pi, p_nw, q_pi0, q_nw0, maxit=10)\n",
      "viz_q(X, q_z, q_pi, q_nw, [-5, 5], [-5, 5])\n",
      "print_q(q_z, q_pi, q_nw)"
     ],
     "language": "python",
     "metadata": {},
     "outputs": [
      {
       "output_type": "stream",
       "stream": "stdout",
       "text": [
        "0 -129.32338382 -30.201856856 -99.1215269638\n",
        "1 -65.9932052247 -62.0077667864 -3.9854384383\n",
        "2 -66.0996921345 -62.1638387849 -3.93585334953\n",
        "3 -66.1267606898 -62.20564343 -3.92111725975\n",
        "4 -66.1344162269 -62.2176177375 -3.91679848933\n",
        "5 -66.13663749 -62.2211042058 -3.91553328418\n",
        "6"
       ]
      },
      {
       "output_type": "stream",
       "stream": "stdout",
       "text": [
        " -66.1372865219 -62.2221239332 -3.91516258873\n",
        "7 -66.1374765413 -62.2224225689 -3.91505397244\n",
        "8 -66.137532206 -62.2225100593 -3.91502214673\n",
        "9 -66.1375485153 -62.2225356938 -3.91501282145\n",
        "[[  9.99257240e-01   7.42759803e-04]\n",
        " [  9.99726571e-01   2.73428670e-04]\n",
        " [  9.99569442e-01   4.30557897e-04]\n",
        " [  9.95913072e-01   4.08692791e-03]\n",
        " [  9.90724729e-01   9.27527128e-03]\n",
        " [  9.97100318e-01   2.89968176e-03]\n",
        " [  9.94793060e-01   5.20693956e-03]\n",
        " [  9.93102132e-01   6.89786840e-03]\n",
        " [  9.98478839e-01   1.52116116e-03]\n",
        " [  9.93616084e-01   6.38391570e-03]\n",
        " [  9.99447830e-01   5.52169920e-04]\n",
        " [  9.96235468e-01   3.76453234e-03]\n",
        " [  9.99917932e-01   8.20676103e-05]\n",
        " [  9.90072813e-01   9.92718723e-03]\n",
        " [  9.99565961e-01   4.34038740e-04]\n",
        " [  9.91595806e-01   8.40419439e-03]\n",
        " [  9.98267013e-01   1.73298675e-03]\n",
        " [  9.89372763e-01   1.06272369e-02]\n",
        " [  9.98857728e-01   1.14227243e-03]\n",
        " [  9.89198646e-01   1.08013542e-02]]"
       ]
      },
      {
       "output_type": "stream",
       "stream": "stdout",
       "text": [
        " \n",
        "\n",
        "[ 20.91481345   1.08518655] \n",
        "\n",
        "u=[ 0.50307893  0.09398261]\n",
        "b=20.9148134474\n",
        "W=[[ 0.04058945  0.00045489]\n",
        " [ 0.00045489  0.04752993]]\n",
        "v=21.9148134474\n",
        "L=[[ 0.88951027  0.00996885]\n",
        " [ 0.00996885  1.0416095 ]] \n",
        "\n",
        "u=[ 0.01240273  0.00074545]\n",
        "b=1.08518655276\n",
        "W=[[ 0.97066182 -0.00234358]\n",
        " [-0.00234358  0.97094908]]\n",
        "v=2.08518655276\n",
        "L=[[ 2.02401097 -0.0048868 ]\n",
        " [-0.0048868   2.02460996]] \n",
        "\n"
       ]
      },
      {
       "metadata": {},
       "output_type": "display_data",
       "png": "[encoded data removed]",
       "text": [
        "<matplotlib.figure.Figure at 0xb51de6c>"
       ]
      }
     ],
     "prompt_number": 96
    },
    {
     "cell_type": "code",
     "collapsed": false,
     "input": [
      "np.random.seed(0)\n",
      "X = np.vstack((np.random.multivariate_normal([-10, -10], np.array([[1.0, 0.0],\n",
      "                                                              [0.0, 1.0]]), 10),\n",
      "              np.random.multivariate_normal([0, 0], np.array([[1.0, 0.0],\n",
      "                                                              [0.0, 1.0]]), 10),\n",
      "              np.random.multivariate_normal([10, 10], np.array([[1.0, 0.0],\n",
      "                                                              [0.0, 1.0]]), 10)\n",
      "              \n",
      "              ))\n",
      "p_pi, p_nw = mixgauss.prior_uninformative(2, 3)\n",
      "q_pi0 = np.ones(3) * 10\n",
      "q_nw0 = [mixgauss.NormalWishartParams(np.array([5.0, 5.0]), 1.0, np.array([[1.0, 0.0], [0.0, 1.0]]), 4.0),\n",
      "         mixgauss.NormalWishartParams(np.array([0.1, 0.1]), 1.0, np.array([[1.0, 0.0], [0.0, 1.0]]), 4.0),\n",
      "         mixgauss.NormalWishartParams(np.array([0.2, 0.2]), 1.0, np.array([[1.0, 0.0], [0.0, 1.0]]), 4.0)]\n",
      "q_z, q_pi, q_nw = mixgauss.infer_q(X, p_pi, p_nw, q_pi0, q_nw0)\n",
      "viz_q(X, q_z, q_pi, q_nw, [-15, 15], [-15, 15])\n",
      "print_q(q_z, q_pi, q_nw)"
     ],
     "language": "python",
     "metadata": {},
     "outputs": [
      {
       "output_type": "stream",
       "stream": "stdout",
       "text": [
        "0 -202.330761761 -90.5159636163 -111.814798145\n",
        "1 -128.635833035 -156.880916436 28.2450834003\n",
        "2 -135.168254971 -153.112750087 17.9444951156\n",
        "3 -139.249429686 -150.363936029 11.114506343\n",
        "4"
       ]
      },
      {
       "output_type": "stream",
       "stream": "stdout",
       "text": [
        " -141.716110397 -148.481393889 6.76528349184\n",
        "5 -143.144288191 -147.286800409 4.14251221844\n",
        "6 -143.963988369 -146.538591839 2.57460347062\n",
        "7 -144.5054097 -146.008675177 1.50326547642\n",
        "8"
       ]
      },
      {
       "output_type": "stream",
       "stream": "stdout",
       "text": [
        " -144.89960437 -145.610697447 0.711093077406\n",
        "9 -145.183361118 -145.322904622 0.139543504272\n",
        "10 -145.373264187 -145.131217322 -0.24204686494\n",
        "11 -145.490833698 -145.013221363 -0.477612334594\n",
        "12"
       ]
      },
      {
       "output_type": "stream",
       "stream": "stdout",
       "text": [
        " -145.559427598 -144.9446713 -0.614756298146\n",
        "13 -145.597931428 -144.906295137 -0.691636290704\n",
        "14 -145.619052499 -144.885276932 -0.73377556702\n",
        "15 -145.630487759 -144.873907286 -0.756580473157\n",
        "16"
       ]
      },
      {
       "output_type": "stream",
       "stream": "stdout",
       "text": [
        " -145.636634415 -144.867798812 -0.768835602942\n",
        "17 -145.639925406 -144.864529109 -0.775396297035\n",
        "18 -145.641683716 -144.862782413 -0.778901302727\n",
        "19 -145.642622081 -144.861850316 -0.780771765054\n",
        "20"
       ]
      },
      {
       "output_type": "stream",
       "stream": "stdout",
       "text": [
        " -145.643122559 -144.861353201 -0.78176935771\n",
        "21 -145.643389402 -144.861088156 -0.782301246527\n",
        "22 -145.643531653 -144.860946866 -0.78258478733\n",
        "23 -145.643607478 -144.860871553 -0.782735924537\n",
        "24"
       ]
      },
      {
       "output_type": "stream",
       "stream": "stdout",
       "text": [
        " -145.643647893 -144.860831411 -0.782816482132\n",
        "25 -145.643669434 -144.860810015 -0.782859419018\n",
        "26 -145.643680916 -144.860798612 -0.782882303901\n",
        "27 -145.643687035 -144.860792534 -0.782894501201\n",
        "28"
       ]
      },
      {
       "output_type": "stream",
       "stream": "stdout",
       "text": [
        " -145.643690297 -144.860789294 -0.782901002155\n",
        "29 -145.643692035 -144.860787568 -0.782904467045\n",
        "30 -145.643692961 -144.860786648 -0.782906313767\n",
        "31 -145.643693455 -144.860786157 -0.782907298035\n",
        "32"
       ]
      },
      {
       "output_type": "stream",
       "stream": "stdout",
       "text": [
        " -145.643693718 -144.860785896 -0.782907822631\n",
        "33 -145.643693859 -144.860785756 -0.78290810223\n",
        "34 -145.643693933 -144.860785682 -0.782908251251\n",
        "35 -145.643693973 -144.860785643 -0.782908330677\n",
        "36"
       ]
      },
      {
       "output_type": "stream",
       "stream": "stdout",
       "text": [
        " -145.643693995 -144.860785622 -0.782908373009\n",
        "37 -145.643694006 -144.86078561 -0.782908395571\n",
        "38 -145.643694012 -144.860785604 -0.782908407596\n",
        "39 -145.643694015 -144.860785601 -0.782908414005\n",
        "40"
       ]
      },
      {
       "output_type": "stream",
       "stream": "stdout",
       "text": [
        " -145.643694017 -144.860785599 -0.782908417421\n",
        "41 -145.643694018 -144.860785598 -0.782908419242\n",
        "42 -145.643694018 -144.860785598 -0.782908420213\n",
        "43 -145.643694018 -144.860785598 -0.78290842073\n",
        "44"
       ]
      },
      {
       "output_type": "stream",
       "stream": "stdout",
       "text": [
        " -145.643694019 -144.860785598 -0.782908421005\n",
        "45 -145.643694019 -144.860785598 -0.782908421152\n",
        "46 -145.643694019 -144.860785597 -0.782908421231\n",
        "47 -145.643694019 -144.860785597 -0.782908421272\n",
        "48"
       ]
      },
      {
       "output_type": "stream",
       "stream": "stdout",
       "text": [
        " -145.643694019 -144.860785597 -0.782908421295\n",
        "49 -145.643694019 -144.860785597 -0.782908421306\n",
        "50 -145.643694019 -144.860785597 -0.782908421313\n",
        "51 -145.643694019 -144.860785597 -0.782908421316\n",
        "52"
       ]
      },
      {
       "output_type": "stream",
       "stream": "stdout",
       "text": [
        " -145.643694019 -144.860785597 -0.782908421318\n",
        "53 -145.643694019 -144.860785597 -0.782908421319\n",
        "54 -145.643694019 -144.860785597 -0.782908421319\n",
        "55 -145.643694019 -144.860785597 -0.78290842132\n",
        "56"
       ]
      },
      {
       "output_type": "stream",
       "stream": "stdout",
       "text": [
        " -145.643694019 -144.860785597 -0.78290842132\n",
        "57 -145.643694019 -144.860785597 -0.78290842132\n",
        "58 -145.643694019 -144.860785597 -0.78290842132\n",
        "59 -145.643694019 -144.860785597 -0.78290842132\n",
        "60"
       ]
      },
      {
       "output_type": "stream",
       "stream": "stdout",
       "text": [
        " -145.643694019 -144.860785597 -0.78290842132\n",
        "61 -145.643694019 -144.860785597 -0.78290842132\n",
        "62 -145.643694019 -144.860785597 -0.78290842132\n",
        "63 -145.643694019 -144.860785597 -0.78290842132\n",
        "64"
       ]
      },
      {
       "output_type": "stream",
       "stream": "stdout",
       "text": [
        " -145.643694019 -144.860785597 -0.78290842132\n",
        "65 -145.643694019 -144.860785597 -0.78290842132\n",
        "66 -145.643694019 -144.860785597 -0.78290842132\n",
        "67 -145.643694019 -144.860785597 -0.78290842132\n",
        "68"
       ]
      },
      {
       "output_type": "stream",
       "stream": "stdout",
       "text": [
        " -145.643694019 -144.860785597 -0.78290842132\n",
        "69 -145.643694019 -144.860785597 -0.78290842132\n",
        "70 -145.643694019 -144.860785597 -0.78290842132\n",
        "71 -145.643694019 -144.860785597 -0.78290842132\n",
        "72"
       ]
      },
      {
       "output_type": "stream",
       "stream": "stdout",
       "text": [
        " -145.643694019 -144.860785597 -0.78290842132\n",
        "73 -145.643694019 -144.860785597 -0.78290842132\n",
        "74 -145.643694019 -144.860785597 -0.78290842132\n",
        "75 -145.643694019 -144.860785597 -0.78290842132\n",
        "76"
       ]
      },
      {
       "output_type": "stream",
       "stream": "stdout",
       "text": [
        " -145.643694019 -144.860785597 -0.78290842132\n",
        "77 -145.643694019 -144.860785597 -0.78290842132\n",
        "78 -145.643694019 -144.860785597 -0.78290842132\n",
        "79 -145.643694019 -144.860785597 -0.78290842132\n",
        "80"
       ]
      },
      {
       "output_type": "stream",
       "stream": "stdout",
       "text": [
        " -145.643694019 -144.860785597 -0.78290842132\n",
        "81 -145.643694019 -144.860785597 -0.78290842132\n",
        "82 -145.643694019 -144.860785597 -0.78290842132\n",
        "83 -145.643694019 -144.860785597 -0.78290842132\n",
        "84"
       ]
      },
      {
       "output_type": "stream",
       "stream": "stdout",
       "text": [
        " -145.643694019 -144.860785597 -0.78290842132\n",
        "85 -145.643694019 -144.860785597 -0.78290842132\n",
        "86 -145.643694019 -144.860785597 -0.78290842132\n",
        "87 -145.643694019 -144.860785597 -0.78290842132\n",
        "88"
       ]
      },
      {
       "output_type": "stream",
       "stream": "stdout",
       "text": [
        " -145.643694019 -144.860785597 -0.78290842132\n",
        "89 -145.643694019 -144.860785597 -0.78290842132\n",
        "90 -145.643694019 -144.860785597 -0.78290842132\n",
        "91 -145.643694019 -144.860785597 -0.78290842132\n",
        "92"
       ]
      },
      {
       "output_type": "stream",
       "stream": "stdout",
       "text": [
        " -145.643694019 -144.860785597 -0.78290842132\n",
        "93 -145.643694019 -144.860785597 -0.78290842132\n",
        "94 -145.643694019 -144.860785597 -0.78290842132\n",
        "95 -145.643694019 -144.860785597 -0.78290842132\n",
        "96"
       ]
      },
      {
       "output_type": "stream",
       "stream": "stdout",
       "text": [
        " -145.643694019 -144.860785597 -0.78290842132\n",
        "97 -145.643694019 -144.860785597 -0.78290842132\n",
        "98 -145.643694019 -144.860785597 -0.78290842132\n",
        "99 -145.643694019 -144.860785597 -0.78290842132\n",
        "[[  6.49161434e-12   1.00000000e+00   3.85930872e-29]\n",
        " [  4.58324350e-12   1.00000000e+00   4.90059858e-24]\n",
        " [  2.66188049e-12   1.00000000e+00   3.96867782e-34]\n",
        " [  7.05102683e-13   1.00000000e+00   2.23205791e-33]\n",
        " [  9.45658067e-14   1.00000000e+00   1.05103623e-33]\n",
        " [  3.63645572e-13   1.00000000e+00   8.28568804e-29]\n",
        " [  5.68418278e-13   1.00000000e+00   9.24812311e-33]\n",
        " [  3.22741166e-13   1.00000000e+00   1.09080273e-32]\n",
        " [  2.23943029e-12   1.00000000e+00   3.74614279e-32]\n",
        " [  9.70436016e-14   1.00000000e+00   4.89991256e-38]\n",
        " [  1.69967058e-05   9.19443920e-03   9.90788564e-01]\n",
        " [  6.86608652e-04   5.67870453e-03   9.93634687e-01]\n",
        " [  2.23313365e-04   6.35238637e-04   9.99141448e-01]\n",
        " [  6.57615350e-04   1.03130953e-02   9.89029289e-01]\n",
        " [  2.18959548e-02   9.28545521e-03   9.68818590e-01]\n",
        " [  9.76225090e-04   7.82080057e-03   9.91202974e-01]\n",
        " [  5.84766327e-04   1.88318488e-01   8.11096746e-01]\n",
        " [  5.18557671e-04   1.07732715e-02   9.88708171e-01]\n",
        " [  9.08141414e-03   7.43343159e-03   9.83485154e-01]\n",
        " [  4.62618490e-04   1.53588887e-02   9.84178493e-01]\n",
        " [  9.99999799e-01   2.01286083e-07   2.63360352e-25]\n",
        " [  9.99999989e-01   1.10600304e-08   4.73117152e-37]\n",
        " [  9.99999950e-01   4.99362541e-08   2.44096401e-30]\n",
        " [  9.99999976e-01   2.42751789e-08   1.54427410e-33]\n",
        " [  9.99999912e-01   8.77327077e-08   1.00279835e-28]\n",
        " [  9.99999972e-01   2.75972857e-08   7.61746900e-33]\n",
        " [  9.99999890e-01   1.09842387e-07   2.63030326e-27]\n",
        " [  9.99999985e-01   1.47428055e-08   3.99875213e-35]\n",
        " [  9.99999984e-01   1.58918729e-08   8.49851678e-35]\n",
        " [  9.99999950e-01   5.00864518e-08   2.25111285e-30]]"
       ]
      },
      {
       "output_type": "stream",
       "stream": "stdout",
       "text": [
        " \n",
        "\n",
        "[ 11.03510348  11.26481241  10.70008412] \n",
        "\n",
        "u=[ 8.41964568  9.17735469]\n",
        "b=11.0351034783\n",
        "W=[[ 0.07240057 -0.05698925]\n",
        " [-0.05698925  0.05650066]]\n",
        "v=12.0351034783\n",
        "L=[[ 0.87134839 -0.68587151]\n",
        " [-0.68587151  0.67999132]] \n",
        "\n",
        "u=[-8.03880497 -8.57343272]\n",
        "b=11.2648124054\n",
        "W=[[ 0.06116539 -0.05318723]\n",
        " [-0.05318723  0.05402282]]\n",
        "v=12.2648124054\n",
        "L=[[ 0.75018206 -0.65233142]\n",
        " [-0.65233142  0.66257977]] \n",
        "\n",
        "u=[ 0.28465221  0.04703293]\n",
        "b=10.7000841166\n",
        "W=[[ 0.0550612  -0.00202007]\n",
        " [-0.00202007  0.08308433]]\n",
        "v=11.7000841166\n",
        "L=[[ 0.6442207  -0.02363496]\n",
        " [-0.02363496  0.9720937 ]] \n",
        "\n"
       ]
      },
      {
       "metadata": {},
       "output_type": "display_data",
       "png": "[encoded data removed]",
       "text": [
        "<matplotlib.figure.Figure at 0xb51ddcc>"
       ]
      }
     ],
     "prompt_number": 98
    },
    {
     "cell_type": "code",
     "collapsed": false,
     "input": [
      "np.random.seed(0)\n",
      "X = np.vstack((np.random.multivariate_normal([-10, -10], np.array([[1.0, 0.0],\n",
      "                                                              [0.0, 1.0]]), 10),\n",
      "              np.random.multivariate_normal([0, 0], np.array([[1.0, 0.0],\n",
      "                                                              [0.0, 1.0]]), 10),\n",
      "              np.random.multivariate_normal([10, 10], np.array([[1.0, 0.0],\n",
      "                                                              [0.0, 1.0]]), 10)\n",
      "              \n",
      "              ))\n",
      "p_pi, p_nw = mixgauss.prior_uninformative(2, 5)\n",
      "q_pi0 = np.ones(5) * 10\n",
      "q_nw0 = [mixgauss.NormalWishartParams(np.array([-0.0, 0.0]), 1.0, np.array([[1.0, 0.0], [0.0, 1.0]]), 4.0),\n",
      "         mixgauss.NormalWishartParams(np.array([0.1, 0.1]), 1.0, np.array([[1.0, 0.0], [0.0, 1.0]]), 4.0),\n",
      "         mixgauss.NormalWishartParams(np.array([0.4, 0.4]), 1.0, np.array([[1.0, 0.0], [0.0, 1.0]]), 4.0),\n",
      "         mixgauss.NormalWishartParams(np.array([0.3, 0.3]), 1.0, np.array([[1.0, 0.0], [0.0, 1.0]]), 4.0),\n",
      "         mixgauss.NormalWishartParams(np.array([0.2, 0.2]), 1.0, np.array([[1.0, 0.0], [0.0, 1.0]]), 4.0)\n",
      "         ]\n",
      "q_z, q_pi, q_nw = mixgauss.infer_q(X, p_pi, p_nw, q_pi0, q_nw0)\n",
      "viz_q(X, q_z, q_pi, q_nw, [-15, 15], [-15, 15])\n",
      "print_q(q_z, q_pi, q_nw)"
     ],
     "language": "python",
     "metadata": {},
     "outputs": [
      {
       "output_type": "stream",
       "stream": "stdout",
       "text": [
        "0 -213.388492101 -112.095488376 -101.293003725\n",
        "1 -139.579772074 -168.389994376 28.8102223018\n",
        "2 -147.265286996 -163.385069532 16.1197825356\n",
        "3"
       ]
      },
      {
       "output_type": "stream",
       "stream": "stdout",
       "text": [
        " -152.156327818 -157.706096466 5.54976864805\n",
        "4 -154.742580823 -152.432549215 -2.31003160767\n",
        "5 -155.924596951 -148.945027696 -6.97956925519\n",
        "6"
       ]
      },
      {
       "output_type": "stream",
       "stream": "stdout",
       "text": [
        " -156.25380764 -146.778262423 -9.47554521695\n",
        "7 -156.349110503 -145.416206403 -10.9329041008\n",
        "8 -156.440067915 -144.685601269 -11.754466646\n",
        "9"
       ]
      },
      {
       "output_type": "stream",
       "stream": "stdout",
       "text": [
        " -156.516986973 -144.319576227 -12.1974107462\n",
        "10 -156.575006595 -144.072413172 -12.5025934222\n",
        "11 -156.627423107 -143.849456952 -12.7779661553\n",
        "12"
       ]
      },
      {
       "output_type": "stream",
       "stream": "stdout",
       "text": [
        " -156.677261418 -143.643731181 -13.033530237\n",
        "13 -156.721636686 -143.47112425 -13.2505124365\n",
        "14 -156.75738757 -143.341586481 -13.4158010884\n",
        "15"
       ]
      },
      {
       "output_type": "stream",
       "stream": "stdout",
       "text": [
        " -156.783549028 -143.253138794 -13.5304102336\n",
        "16 -156.801257637 -143.19679836 -13.6044592775\n",
        "17 -156.812580734 -143.162540816 -13.6500399178\n",
        "18"
       ]
      },
      {
       "output_type": "stream",
       "stream": "stdout",
       "text": [
        " -156.819545935 -143.142309186 -13.6772367484\n",
        "19 -156.823725081 -143.130566523 -13.6931585584\n",
        "20 -156.826194415 -143.123817798 -13.7023766164\n",
        "21"
       ]
      },
      {
       "output_type": "stream",
       "stream": "stdout",
       "text": [
        " -156.827640232 -143.119959631 -13.7076806011\n",
        "22 -156.828482345 -143.117759654 -13.7107226911\n",
        "23 -156.828971402 -143.11650648 -13.7124649217\n",
        "24"
       ]
      },
      {
       "output_type": "stream",
       "stream": "stdout",
       "text": [
        " -156.829254979 -143.115792733 -13.7134622456\n",
        "25 -156.82941928 -143.115386075 -13.7140332052\n",
        "26 -156.829514442 -143.11515424 -13.7143602024\n",
        "27"
       ]
      },
      {
       "output_type": "stream",
       "stream": "stdout",
       "text": [
        " -156.829569553 -143.115021972 -13.7145475808\n",
        "28 -156.829601469 -143.114946449 -13.71465502\n",
        "29 -156.829619954 -143.114903291 -13.7147166634\n",
        "30"
       ]
      },
      {
       "output_type": "stream",
       "stream": "stdout",
       "text": [
        " -156.829630662 -143.114878608 -13.714752054\n",
        "31 -156.829636865 -143.11486448 -13.7147723853\n",
        "32 -156.82964046 -143.114856387 -13.7147840724\n",
        "33"
       ]
      },
      {
       "output_type": "stream",
       "stream": "stdout",
       "text": [
        " -156.829642542 -143.114851748 -13.7147907944\n",
        "34 -156.829643749 -143.114849087 -13.7147946629\n",
        "35 -156.829644449 -143.114847559 -13.7147968903\n",
        "36"
       ]
      },
      {
       "output_type": "stream",
       "stream": "stdout",
       "text": [
        " -156.829644855 -143.114846681 -13.7147981735\n",
        "37 -156.82964509 -143.114846177 -13.7147989131\n",
        "38 -156.829645226 -143.114845887 -13.7147993395\n",
        "39"
       ]
      },
      {
       "output_type": "stream",
       "stream": "stdout",
       "text": [
        " -156.829645305 -143.11484572 -13.7147995855\n",
        "40 -156.829645351 -143.114845623 -13.7147997275\n",
        "41 -156.829645378 -143.114845568 -13.7147998095\n",
        "42"
       ]
      },
      {
       "output_type": "stream",
       "stream": "stdout",
       "text": [
        " -156.829645393 -143.114845536 -13.7147998568\n",
        "43 -156.829645402 -143.114845518 -13.7147998842\n",
        "44 -156.829645407 -143.114845507 -13.7147999\n",
        "45"
       ]
      },
      {
       "output_type": "stream",
       "stream": "stdout",
       "text": [
        " -156.82964541 -143.114845501 -13.7147999091\n",
        "46 -156.829645412 -143.114845498 -13.7147999144\n",
        "47 -156.829645413 -143.114845495 -13.7147999174\n",
        "48"
       ]
      },
      {
       "output_type": "stream",
       "stream": "stdout",
       "text": [
        " -156.829645413 -143.114845494 -13.7147999192\n",
        "49 -156.829645414 -143.114845494 -13.7147999202\n",
        "50 -156.829645414 -143.114845493 -13.7147999208\n",
        "51"
       ]
      },
      {
       "output_type": "stream",
       "stream": "stdout",
       "text": [
        " -156.829645414 -143.114845493 -13.7147999212\n",
        "52 -156.829645414 -143.114845493 -13.7147999214\n",
        "53 -156.829645414 -143.114845493 -13.7147999215\n",
        "54"
       ]
      },
      {
       "output_type": "stream",
       "stream": "stdout",
       "text": [
        " -156.829645414 -143.114845493 -13.7147999215\n",
        "55 -156.829645414 -143.114845493 -13.7147999216\n",
        "56 -156.829645414 -143.114845493 -13.7147999216\n",
        "57"
       ]
      },
      {
       "output_type": "stream",
       "stream": "stdout",
       "text": [
        " -156.829645414 -143.114845493 -13.7147999216\n",
        "58 -156.829645414 -143.114845493 -13.7147999216\n",
        "59 -156.829645414 -143.114845493 -13.7147999216\n",
        "60"
       ]
      },
      {
       "output_type": "stream",
       "stream": "stdout",
       "text": [
        " -156.829645414 -143.114845493 -13.7147999216\n",
        "61 -156.829645414 -143.114845493 -13.7147999216\n",
        "62 -156.829645414 -143.114845493 -13.7147999216\n",
        "63"
       ]
      },
      {
       "output_type": "stream",
       "stream": "stdout",
       "text": [
        " -156.829645414 -143.114845493 -13.7147999216\n",
        "64 -156.829645414 -143.114845493 -13.7147999216\n",
        "65 -156.829645414 -143.114845493 -13.7147999216\n",
        "66"
       ]
      },
      {
       "output_type": "stream",
       "stream": "stdout",
       "text": [
        " -156.829645414 -143.114845493 -13.7147999216\n",
        "67 -156.829645414 -143.114845493 -13.7147999216\n",
        "68 -156.829645414 -143.114845493 -13.7147999216\n",
        "69"
       ]
      },
      {
       "output_type": "stream",
       "stream": "stdout",
       "text": [
        " -156.829645414 -143.114845493 -13.7147999216\n",
        "70 -156.829645414 -143.114845493 -13.7147999216\n",
        "71 -156.829645414 -143.114845493 -13.7147999216\n",
        "72"
       ]
      },
      {
       "output_type": "stream",
       "stream": "stdout",
       "text": [
        " -156.829645414 -143.114845493 -13.7147999216\n",
        "73 -156.829645414 -143.114845493 -13.7147999216\n",
        "74 -156.829645414 -143.114845493 -13.7147999216\n",
        "75"
       ]
      },
      {
       "output_type": "stream",
       "stream": "stdout",
       "text": [
        " -156.829645414 -143.114845493 -13.7147999216\n",
        "76 -156.829645414 -143.114845493 -13.7147999216\n",
        "77 -156.829645414 -143.114845493 -13.7147999216\n",
        "78"
       ]
      },
      {
       "output_type": "stream",
       "stream": "stdout",
       "text": [
        " -156.829645414 -143.114845493 -13.7147999216\n",
        "79 -156.829645414 -143.114845493 -13.7147999216\n",
        "80 -156.829645414 -143.114845493 -13.7147999216\n",
        "81"
       ]
      },
      {
       "output_type": "stream",
       "stream": "stdout",
       "text": [
        " -156.829645414 -143.114845493 -13.7147999216\n",
        "82 -156.829645414 -143.114845493 -13.7147999216\n",
        "83 -156.829645414 -143.114845493 -13.7147999216\n",
        "84"
       ]
      },
      {
       "output_type": "stream",
       "stream": "stdout",
       "text": [
        " -156.829645414 -143.114845493 -13.7147999216\n",
        "85 -156.829645414 -143.114845493 -13.7147999216\n",
        "86 -156.829645414 -143.114845493 -13.7147999216\n",
        "87"
       ]
      },
      {
       "output_type": "stream",
       "stream": "stdout",
       "text": [
        " -156.829645414 -143.114845493 -13.7147999216\n",
        "88 -156.829645414 -143.114845493 -13.7147999216\n",
        "89 -156.829645414 -143.114845493 -13.7147999216\n",
        "90"
       ]
      },
      {
       "output_type": "stream",
       "stream": "stdout",
       "text": [
        " -156.829645414 -143.114845493 -13.7147999216\n",
        "91 -156.829645414 -143.114845493 -13.7147999216\n",
        "92 -156.829645414 -143.114845493 -13.7147999216\n",
        "93"
       ]
      },
      {
       "output_type": "stream",
       "stream": "stdout",
       "text": [
        " -156.829645414 -143.114845493 -13.7147999216\n",
        "94 -156.829645414 -143.114845493 -13.7147999216\n",
        "95 -156.829645414 -143.114845493 -13.7147999216\n",
        "96"
       ]
      },
      {
       "output_type": "stream",
       "stream": "stdout",
       "text": [
        " -156.829645414 -143.114845493 -13.7147999216\n",
        "97 -156.829645414 -143.114845493 -13.7147999216\n",
        "98 -156.829645414 -143.114845493 -13.7147999216\n",
        "99"
       ]
      },
      {
       "output_type": "stream",
       "stream": "stdout",
       "text": [
        " -156.829645414 -143.114845493 -13.7147999216\n",
        "[[  1.00000000e+000   6.87595310e-079   4.52788835e-013   1.66697610e-166\n",
        "    7.00312341e-130]\n",
        " [  1.00000000e+000   3.59793292e-063   3.48156304e-013   2.08629909e-148\n",
        "    5.19609862e-116]\n",
        " [  1.00000000e+000   3.14918829e-094   1.78505032e-013   7.31480747e-191\n",
        "    3.00444400e-148]\n",
        " [  1.00000000e+000   2.65334502e-090   4.02250312e-014   4.52149604e-189\n",
        "    8.03596155e-148]\n",
        " [  1.00000000e+000   5.93642528e-090   4.54527516e-015   1.87432157e-196\n",
        "    4.85565580e-154]\n",
        " [  1.00000000e+000   4.05704618e-076   2.12277132e-014   2.23748844e-174\n",
        "    1.49839935e-136]\n",
        " [  1.00000000e+000   3.33966607e-088   3.18490916e-014   4.38940982e-187\n",
        "    2.07208892e-146]\n",
        " [  1.00000000e+000   1.36153141e-087   1.72735314e-014   1.78133244e-188\n",
        "    1.21558849e-147]\n",
        " [  1.00000000e+000   1.68264310e-087   1.42636265e-013   1.40233511e-181\n",
        "    1.24529951e-141]\n",
        " [  1.00000000e+000   3.23152617e-103   4.56545894e-015   4.29154262e-213\n",
        "    8.48842459e-167]\n",
        " [  3.98458146e-003   9.96011932e-001   3.48417968e-006   1.45684012e-012\n",
        "    2.25049552e-009]\n",
        " [  1.66916377e-002   9.81797768e-001   3.40556079e-004   3.12545405e-004\n",
        "    8.57492840e-004]\n",
        " [  1.78671361e-003   9.98138654e-001   7.09816021e-005   3.55992958e-008\n",
        "    3.61516627e-006]\n",
        " [  2.28735904e-002   9.73581514e-001   3.25590521e-004   1.33171316e-003\n",
        "    1.88759183e-003]\n",
        " [  1.17642984e-002   1.44474742e-002   6.09011530e-003   9.00211883e-001\n",
        "    6.74862287e-002]\n",
        " [  1.89952429e-002   9.39755783e-001   5.83089243e-004   2.61015174e-002\n",
        "    1.45643672e-002]\n",
        " [  9.33764369e-001   6.56826939e-002   5.52928665e-004   1.43530760e-011\n",
        "    7.98182630e-009]\n",
        " [  1.92466552e-002   9.78139437e-001   2.42870241e-004   9.05062230e-004\n",
        "    1.46597541e-003]\n",
        " [  1.04862409e-002   5.22986248e-002   2.88264186e-003   8.51082723e-001\n",
        "    8.32497698e-002]\n",
        " [  3.25092611e-002   9.66832256e-001   2.33907396e-004   9.91126698e-005\n",
        "    3.25462567e-004]\n",
        " [  3.97772787e-006   1.27897188e-071   9.99996022e-001   1.36708089e-091\n",
        "    1.22650149e-078]\n",
        " [  4.07020237e-008   6.09957559e-108   9.99999959e-001   2.14944109e-134\n",
        "    9.67932337e-112]\n",
        " [  1.02235190e-006   5.56601484e-086   9.99998978e-001   4.59421951e-111\n",
        "    1.20116693e-094]\n",
        " [  1.98111932e-007   3.01517395e-096   9.99999802e-001   4.63616681e-120\n",
        "    2.83369197e-101]\n",
        " [  8.19298805e-007   4.04929021e-082   9.99999181e-001   3.91615772e-101\n",
        "    4.85303074e-086]\n",
        " [  3.30821743e-007   1.02818374e-093   9.99999669e-001   2.77072390e-118\n",
        "    3.26973779e-100]\n",
        " [  2.82257456e-006   3.40565707e-077   9.99997177e-001   3.85500273e-101\n",
        "    1.56969256e-086]\n",
        " [  3.11905767e-007   1.01368090e-099   9.99999688e-001   5.55510867e-130\n",
        "    4.01224845e-110]\n",
        " [  3.74106537e-007   1.08231731e-098   9.99999626e-001   2.44334114e-129\n",
        "    1.19790992e-109]\n",
        " [  9.23018560e-007   3.68386118e-086   9.99999077e-001   1.48718297e-110\n",
        "    3.45717081e-094]]"
       ]
      },
      {
       "output_type": "stream",
       "stream": "stdout",
       "text": [
        " \n",
        "\n",
        "[ 12.07211341   7.96668614  11.01131534   2.78004459   1.16984051] \n",
        "\n",
        "u=[-7.55390741 -8.12306153]\n",
        "b=12.0721134118\n",
        "W=[[ 0.05717272 -0.05218432]\n",
        " [-0.05218432  0.05376492]]\n",
        "v=14.0721134118\n",
        "L=[[ 0.80454098 -0.73434365]\n",
        " [-0.73434365  0.75658608]] \n",
        "\n",
        "u=[ 0.13493363 -0.06797037]\n",
        "b=7.96668613765\n",
        "W=[[ 0.08620519  0.06339708]\n",
        " [ 0.06339708  0.22249364]]\n",
        "v=9.96668613765\n",
        "L=[[ 0.85918004  0.63185878]\n",
        " [ 0.63185878  2.21752431]] \n",
        "\n",
        "u=[ 8.4348906   9.19442924]\n",
        "b=11.0113153446\n",
        "W=[[ 0.07250216 -0.05693495]\n",
        " [-0.05693495  0.05655875]]\n",
        "v=13.0113153446\n",
        "L=[[ 0.94334847 -0.74079853]\n",
        " [-0.74079853  0.73590368]] \n",
        "\n",
        "u=[ 1.23412678  1.20701654]\n",
        "b=2.78004459269\n",
        "W=[[ 0.86886459 -0.11289905]\n",
        " [-0.11289905  0.9013813 ]]\n",
        "v=4.78004459269\n",
        "L=[[ 4.15321149 -0.53966249]\n",
        " [-0.53966249  4.30864279]] \n",
        "\n",
        "u=[ 1.03289237  1.02911707]\n",
        "b=1.16984051384\n",
        "W=[[ 0.96455266 -0.0298542 ]\n",
        " [-0.0298542   0.97198922]]\n",
        "v=3.16984051384\n",
        "L=[[ 3.05747811 -0.09463305]\n",
        " [-0.09463305  3.08105081]] \n",
        "\n"
       ]
      },
      {
       "metadata": {},
       "output_type": "display_data",
       "png": "[encoded data removed]",
       "text": [
        "<matplotlib.figure.Figure at 0xb36088c>"
       ]
      }
     ],
     "prompt_number": 91
    }
   ],
   "metadata": {}
  }
 ]
}