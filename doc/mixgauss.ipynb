{
 "metadata": {
  "name": ""
 },
 "nbformat": 3,
 "nbformat_minor": 0,
 "worksheets": [
  {
   "cells": [
    {
     "cell_type": "markdown",
     "metadata": {},
     "source": [
      "* Jeffrey prior\n",
      "* Plate notation\n",
      "* tmux keybinding\n",
      "* Plot Normal Wishart\n",
      "* E[log f(X)]\n",
      "* Method sampling from mixture of Gaussians\n",
      "* Proof montonous increase\n",
      "* Finite difference\n",
      "* Distribution as object -> PDF\n",
      "* Visualization\n"
     ]
    },
    {
     "cell_type": "code",
     "collapsed": false,
     "input": [
      "import numpy as np\n",
      "import matplotlib.pyplot as plot\n",
      "import sys\n",
      "sys.path.append('../varinf')\n",
      "import mixgauss\n"
     ],
     "language": "python",
     "metadata": {},
     "outputs": [],
     "prompt_number": 6
    },
    {
     "cell_type": "code",
     "collapsed": false,
     "input": [
      "np.random.seed(0)\n",
      "D = 1\n",
      "K = 3\n",
      "N = 10\n",
      "p_pi, p_nw = mixgauss.prior_uninformative(D, K)\n",
      "X = np.random.normal(0.0, 1.0, N).reshape((N, D))\n",
      "q_z, q_pi, q_nw = mixgauss.infer_q(X, p_pi, p_nw, maxit=10)\n",
      "print q_z, '\\n'\n",
      "print q_pi, '\\n'\n",
      "for k in range(K):\n",
      "    print q_nw[k], '\\n'"
     ],
     "language": "python",
     "metadata": {},
     "outputs": [
      {
       "output_type": "stream",
       "stream": "stdout",
       "text": [
        "0 -95.2475690381\n",
        "1 -63.7927896699\n",
        "2 -63.7927896699\n",
        "3"
       ]
      },
      {
       "output_type": "stream",
       "stream": "stdout",
       "text": [
        " -63.7927896699\n",
        "4 -63.7927896699\n",
        "5 -63.7927896699\n",
        "6 -63.7927896699\n",
        "7 -63.7927896699\n",
        "8 -63.7927896699\n",
        "9 -63.7927896699\n",
        "[[ 0.33333333  0.33333333  0.33333333]\n",
        " [ 0.33333333  0.33333333  0.33333333]\n",
        " [ 0.33333333  0.33333333  0.33333333]\n",
        " [ 0.33333333  0.33333333  0.33333333]\n",
        " [ 0.33333333  0.33333333  0.33333333]\n",
        " [ 0.33333333  0.33333333  0.33333333]\n",
        " [ 0.33333333  0.33333333  0.33333333]\n",
        " [ 0.33333333  0.33333333  0.33333333]\n",
        " [ 0.33333333  0.33333333  0.33333333]\n",
        " [ 0.33333333  0.33333333  0.33333333]]"
       ]
      },
      {
       "output_type": "stream",
       "stream": "stdout",
       "text": [
        " \n",
        "\n",
        "[ 3.66666667  3.66666667  3.66666667] \n",
        "\n",
        "u=[-0.48481827]\n",
        "b=3.33433333333\n",
        "W=[[ 0.09333458]]\n",
        "v=5.33333333333 \n",
        "\n",
        "u=[-0.48481827]\n",
        "b=3.33433333333\n",
        "W=[[ 0.09333458]]\n",
        "v=5.33333333333 \n",
        "\n",
        "u=[-0.48481827]\n",
        "b=3.33433333333\n",
        "W=[[ 0.09333458]]\n",
        "v=5.33333333333 \n",
        "\n"
       ]
      }
     ],
     "prompt_number": 2
    },
    {
     "cell_type": "code",
     "collapsed": false,
     "input": [
      "np.random.seed(0)\n",
      "D = 1\n",
      "\n",
      "X = np.vstack((np.random.normal(-10.0, 1.0, 10).reshape((10, D)),\n",
      "               np.random.normal(10.0, 1.0, 10).reshape((10, D))\n",
      "               ))\n",
      "p_pi, p_nw = mixgauss.prior_uninformative(D, 2)\n",
      "p_pi = np.array([0.5, 0.5])\n",
      "p_nw.u = np.array([0.0])\n",
      "p_nw.b = 0.001\n",
      "p_nw.W = np.array([[0.1]])\n",
      "p_nw.v = 0.001\n",
      "\n",
      "q_pi0 = np.array([0.5, 0.5])\n",
      "q_nw0 = []\n",
      "q_nw0.append(mixgauss.NormalWishartParams(u=np.array([-10.0]),\n",
      "                                          b=1,\n",
      "                                          W=np.array([[5.0]]),\n",
      "                                          v=1.0)\n",
      "             )\n",
      "q_nw0.append(mixgauss.NormalWishartParams(u=np.array([10.0]),\n",
      "                                          b=1,\n",
      "                                          W=np.array([[5.0]]),\n",
      "                                          v=1.0)\n",
      "             )                                   \n",
      "\n",
      "q_z, q_pi, q_nw = mixgauss.infer_q(X, p_pi, p_nw, q_pi0, q_nw0, maxit=10)\n",
      "print mixgauss.str_q(q_z, q_pi, q_nw)"
     ],
     "language": "python",
     "metadata": {},
     "outputs": [
      {
       "output_type": "stream",
       "stream": "stdout",
       "text": [
        "0 nan\n",
        "1 -295.494652737\n",
        "2 -253.255760808\n",
        "3 -273.918888548\n",
        "4 -268.927296554\n",
        "5 -270.375461091\n",
        "6 -270.09186639\n",
        "7"
       ]
      },
      {
       "output_type": "stream",
       "stream": "stdout",
       "text": [
        " -270.052508164\n",
        "8 -270.129227481\n",
        "9 -270.075654209\n",
        "pi:\n",
        "[ 11.24614447   9.75385553]\n",
        "\n",
        "nw 0:\n",
        "u=[-29.07868734]\n",
        "b=10.747144468\n",
        "W=[[ 0.00014183]]\n",
        "v=10.747144468\n",
        "\n",
        "nw 1:\n",
        "u=[ 19.77225966]\n",
        "b=9.25485553198\n",
        "W=[[ 0.00035811]]\n",
        "v=9.25485553198\n",
        "\n",
        "z:\n",
        "[[ 0.32175267  0.67824733]\n",
        " [ 0.28547964  0.71452036]\n",
        " [ 0.30065285  0.69934715]\n",
        " [ 0.33481596  0.66518404]\n",
        " [ 0.32457315  0.67542685]\n",
        " [ 0.25081991  0.74918009]\n",
        " [ 0.29989373  0.70010627]\n",
        " [ 0.2713423   0.7286577 ]\n",
        " [ 0.27256293  0.72743707]\n",
        " [ 0.28575045  0.71424955]\n",
        " [ 0.77604795  0.22395205]\n",
        " [ 0.79598625  0.20401375]\n",
        " [ 0.78567019  0.21432981]\n",
        " [ 0.77569117  0.22430883]\n",
        " [ 0.78077631  0.21922369]\n",
        " [ 0.77905017  0.22094983]\n",
        " [ 0.796563    0.203437  ]\n",
        " [ 0.77041396  0.22958604]\n",
        " [ 0.77872587  0.22127413]\n",
        " [ 0.759576    0.240424  ]]\n"
       ]
      }
     ],
     "prompt_number": 11
    },
    {
     "cell_type": "code",
     "collapsed": false,
     "input": [
      "import numpy as np\n",
      "%matplotlib inline\n",
      "import matplotlib.pyplot as plt\n",
      "import matplotlib.patches\n",
      "import scipy as sp\n",
      "import scipy.stats as stats"
     ],
     "language": "python",
     "metadata": {},
     "outputs": [],
     "prompt_number": 69
    },
    {
     "cell_type": "code",
     "collapsed": false,
     "input": [
      "\n",
      "def ellipse_normal(u, S, alpha=0.05):\n",
      "    l, e = np.linalg.eig(S)\n",
      "    df = len(l)\n",
      "    widths = [np.sqrt(l[i]*stats.chi2.ppf(alpha, df=df)) for i in range(df)]\n",
      "    angle = np.arccos(e[0][1] / np.linalg.norm(e[0]))\n",
      "    return matplotlib.patches.Ellipse(u, widths[0], widths[1], angle)\n",
      "    \n",
      "def plot_normal(u, S, alpha):\n",
      "    fig, ax = plt.subplots()\n",
      "    e = ellipse_normal(u, S, alpha)\n",
      "    ax.add_artist(e)\n",
      "    ax.set_xlabel('$X_1$')\n",
      "    ax.set_ylabel('$X_2$')\n",
      "    ax.set_xlim(u[0]-e.width*2, u[0]+e.width*2)\n",
      "    ax.set_ylim(u[1]-e.height*2, u[1]+e.height*2)\n",
      "    \n",
      "    \n",
      "                      \n",
      "    "
     ],
     "language": "python",
     "metadata": {},
     "outputs": [],
     "prompt_number": 91
    },
    {
     "cell_type": "code",
     "collapsed": false,
     "input": [
      "u = np.array([.0, .0])\n",
      "S = np.array([[1.0, 0.5],\n",
      "              [0.5, 1.0]])\n",
      "plot_normal(u, S, 0.9)"
     ],
     "language": "python",
     "metadata": {},
     "outputs": [
      {
       "metadata": {},
       "output_type": "display_data",
       "png": "[encoded data removed]",
       "text": [
        "<matplotlib.figure.Figure at 0xabf906c>"
       ]
      }
     ],
     "prompt_number": 97
    }
   ],
   "metadata": {}
  }
 ]
}